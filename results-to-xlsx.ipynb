{
 "cells": [
  {
   "cell_type": "code",
   "execution_count": 39,
   "id": "54f11b60",
   "metadata": {},
   "outputs": [],
   "source": [
    "import wandb\n",
    "from argparse import Namespace\n",
    "import openpyxl"
   ]
  },
  {
   "cell_type": "code",
   "execution_count": 2,
   "id": "67e35b14",
   "metadata": {},
   "outputs": [],
   "source": [
    "api = wandb.Api(timeout=90)"
   ]
  },
  {
   "cell_type": "code",
   "execution_count": 3,
   "id": "eb8374f9",
   "metadata": {},
   "outputs": [],
   "source": [
    "ds = ['IIIT_WVU', 'NotreDame', 'Clarkson']"
   ]
  },
  {
   "cell_type": "code",
   "execution_count": 4,
   "id": "b5dbafc1",
   "metadata": {},
   "outputs": [],
   "source": [
    "from collections import defaultdict\n",
    "\n",
    "runs = {d:defaultdict(list) for d in ds}\n",
    "\n",
    "for train in ds:\n",
    "    for run in api.runs(f\"{train}\"):\n",
    "        runs[train][run.config['CLASSIFIER']['model']['type'].replace('torchvision.models.', \"\")].append(run)"
   ]
  },
  {
   "cell_type": "code",
   "execution_count": 5,
   "id": "71ecb73f",
   "metadata": {},
   "outputs": [],
   "source": [
    "params = {d: {dd: {'bs': 0, 'lambda': 0.0} for dd in ds} for d in ds}\n",
    "\n",
    "params['IIIT_WVU']['IIIT_WVU'] = {'bs': 64, 'lambda': 0.25}\n",
    "params['IIIT_WVU']['NotreDame'] = {'bs': 128, 'lambda': 0.75}\n",
    "params['IIIT_WVU']['Clarkson'] = {'bs': 512, 'lambda': 1.0}\n",
    "\n",
    "params['NotreDame']['IIIT_WVU'] = {'bs': 512, 'lambda': 0.50}\n",
    "params['NotreDame']['NotreDame'] = {'bs': 128, 'lambda': 0.25}\n",
    "params['NotreDame']['Clarkson'] = {'bs': 512, 'lambda': 0.25}\n",
    "\n",
    "params['Clarkson']['IIIT_WVU'] = {'bs': 256, 'lambda': 2.0}\n",
    "params['Clarkson']['NotreDame'] = {'bs': 256, 'lambda': 0.25}\n",
    "params['Clarkson']['Clarkson'] = {'bs': 128, 'lambda': 2.0}"
   ]
  },
  {
   "cell_type": "code",
   "execution_count": 6,
   "id": "70b586f3",
   "metadata": {},
   "outputs": [],
   "source": [
    "models=sorted(list(set(runs['NotreDame'].keys()).union(set(runs['IIIT_WVU'].keys()),set(runs['Clarkson'].keys()))))"
   ]
  },
  {
   "cell_type": "code",
   "execution_count": 36,
   "id": "2257d43d",
   "metadata": {},
   "outputs": [],
   "source": [
    "results = {model:{train:{test:Namespace(ACER=0, APCER=0, BPCER=0, invoked=False, run=None) for test in ds} for train in ds} for model in models}\n",
    "\n",
    "for train in ds:\n",
    "    for model in runs[train]:\n",
    "        for run in runs[train][model]:\n",
    "            batch_size = run.config['CLASSIFIER']['equiv_batch_size']\n",
    "            lambda_nce = run.config['CUT']['lambda_NCE']\n",
    "            for test, args in params[train].items():\n",
    "                if args['bs'] == batch_size and args['lambda'] == lambda_nce:\n",
    "                    if not results[model][train][test].invoked:\n",
    "                        results[model][train][test].run = run\n",
    "                        results[model][train][test].invoked = True\n",
    "                        results[model][train][test].ACER = run.summary[f\"acer/{test}/TEST\"]['min']\n",
    "#                     else:\n",
    "#                         results[model][train][test].ACER = min(results[model][train][test], run.summary[f\"acer/{test}/TEST\"]['min'])\n",
    "\n",
    "\n",
    "for model in models:\n",
    "    for train in ds:\n",
    "        for test in ds:\n",
    "            if results[model][train][test].invoked:\n",
    "                run = results[model][train][test].run\n",
    "                for info in run.scan_history(keys=[f\"apcer/{test}/TEST\", f\"bpcer/{test}/TEST\", f\"acer/{test}/TEST\"]):\n",
    "                    apcer = info[f\"apcer/{test}/TEST\"]\n",
    "                    acer = info[f\"acer/{test}/TEST\"]\n",
    "                    bpcer = info[f\"bpcer/{test}/TEST\"]\n",
    "                    if abs(acer-results[model][train][test].ACER)/acer < 1.0e-5:\n",
    "                        results[model][train][test].APCER = apcer\n",
    "                        results[model][train][test].BPCER = bpcer\n",
    "                \n",
    "                results[model][train][test].ACER = \"{:.02f}\".format(results[model][train][test].ACER*100)\n",
    "                results[model][train][test].APCER = \"{:.02f}\".format(results[model][train][test].APCER*100)\n",
    "                results[model][train][test].BPCER = \"{:.02f}\".format(results[model][train][test].BPCER*100)\n",
    "            else:\n",
    "                results[model][train][test].ACER = \"-\"\n",
    "                results[model][train][test].APCER = \"-\"\n",
    "                results[model][train][test].BPCER = \"-\""
   ]
  },
  {
   "cell_type": "code",
   "execution_count": 42,
   "id": "5d556119",
   "metadata": {},
   "outputs": [],
   "source": [
    "wb = openpyxl.Workbook()\n",
    "\n",
    "sheet = wb.create_sheet('ACER')\n",
    "sheet.append(\"Train,IIIT_WVU,,,NotreDame,,,Clarkson,,,\\n\".strip().split(','))\n",
    "sheet.append(\"Test,IIIT_WVU,NotreDame,Clarkson,IIIT_WVU,NotreDame,Clarkson,IIIT_WVU,NotreDame,Clarkson\\n\".strip().split(','))\n",
    "for model in models:\n",
    "    msg = f\"{model},\"\n",
    "    for train in ds:\n",
    "        for test in ds:\n",
    "            msg += f\"{results[model][train][test].ACER},\"\n",
    "    sheet.append((msg + \"\\n\").strip().split(','))\n",
    "    \n",
    "sheet = wb.create_sheet('APCER')\n",
    "sheet.append(\"Train,IIIT_WVU,,,NotreDame,,,Clarkson,,,\\n\".strip().split(','))\n",
    "sheet.append(\"Test,IIIT_WVU,NotreDame,Clarkson,IIIT_WVU,NotreDame,Clarkson,IIIT_WVU,NotreDame,Clarkson\\n\".strip().split(','))\n",
    "for model in models:\n",
    "    msg = f\"{model},\"\n",
    "    for train in ds:\n",
    "        for test in ds:\n",
    "            msg += f\"{results[model][train][test].APCER},\"\n",
    "    sheet.append((msg + \"\\n\").strip().split(','))\n",
    "\n",
    "sheet = wb.create_sheet('BPCER')\n",
    "sheet.append(\"Train,IIIT_WVU,,,NotreDame,,,Clarkson,,,\\n\".strip().split(','))\n",
    "sheet.append(\"Test,IIIT_WVU,NotreDame,Clarkson,IIIT_WVU,NotreDame,Clarkson,IIIT_WVU,NotreDame,Clarkson\\n\".strip().split(','))\n",
    "for model in models:\n",
    "    msg = f\"{model},\"\n",
    "    for train in ds:\n",
    "        for test in ds:\n",
    "            msg += f\"{results[model][train][test].BPCER},\"\n",
    "    sheet.append((msg + \"\\n\").strip().split(','))\n",
    "    \n",
    "wb.save('LivDet-iris-2017.xlsx')"
   ]
  },
  {
   "cell_type": "code",
   "execution_count": null,
   "id": "8b562354",
   "metadata": {},
   "outputs": [],
   "source": []
  }
 ],
 "metadata": {
  "kernelspec": {
   "display_name": "Python 3 (ipykernel)",
   "language": "python",
   "name": "python3"
  },
  "language_info": {
   "codemirror_mode": {
    "name": "ipython",
    "version": 3
   },
   "file_extension": ".py",
   "mimetype": "text/x-python",
   "name": "python",
   "nbconvert_exporter": "python",
   "pygments_lexer": "ipython3",
   "version": "3.10.7"
  }
 },
 "nbformat": 4,
 "nbformat_minor": 5
}
