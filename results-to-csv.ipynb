{
 "cells": [
  {
   "cell_type": "code",
   "execution_count": 68,
   "id": "54f11b60",
   "metadata": {},
   "outputs": [],
   "source": [
    "import wandb"
   ]
  },
  {
   "cell_type": "code",
   "execution_count": 69,
   "id": "67e35b14",
   "metadata": {},
   "outputs": [],
   "source": [
    "api = wandb.Api(timeout=90)"
   ]
  },
  {
   "cell_type": "code",
   "execution_count": 70,
   "id": "eb8374f9",
   "metadata": {},
   "outputs": [],
   "source": [
    "ds = ['IIIT_WVU', 'NotreDame', 'Clarkson']"
   ]
  },
  {
   "cell_type": "code",
   "execution_count": 71,
   "id": "b5dbafc1",
   "metadata": {},
   "outputs": [],
   "source": [
    "from collections import defaultdict\n",
    "\n",
    "runs = {d:defaultdict(list) for d in ds}\n",
    "\n",
    "for train in ds:\n",
    "    for run in api.runs(f\"{train}\"):\n",
    "        runs[train][run.config['CLASSIFIER']['model']['type'].replace('torchvision.models.', \"\")].append(run)"
   ]
  },
  {
   "cell_type": "code",
   "execution_count": 72,
   "id": "71ecb73f",
   "metadata": {},
   "outputs": [],
   "source": [
    "params = {d: {dd: {'bs': 0, 'lambda': 0.0} for dd in ds} for d in ds}\n",
    "\n",
    "params['IIIT_WVU']['IIIT_WVU'] = {'bs': 64, 'lambda': 0.25}\n",
    "params['IIIT_WVU']['NotreDame'] = {'bs': 128, 'lambda': 0.75}\n",
    "params['IIIT_WVU']['Clarkson'] = {'bs': 512, 'lambda': 1.0}\n",
    "\n",
    "params['NotreDame']['IIIT_WVU'] = {'bs': 512, 'lambda': 0.50}\n",
    "params['NotreDame']['NotreDame'] = {'bs': 128, 'lambda': 0.25}\n",
    "params['NotreDame']['Clarkson'] = {'bs': 512, 'lambda': 0.25}\n",
    "\n",
    "params['Clarkson']['IIIT_WVU'] = {'bs': 256, 'lambda': 2.0}\n",
    "params['Clarkson']['NotreDame'] = {'bs': 256, 'lambda': 0.25}\n",
    "params['Clarkson']['Clarkson'] = {'bs': 128, 'lambda': 2.0}"
   ]
  },
  {
   "cell_type": "code",
   "execution_count": 73,
   "id": "70b586f3",
   "metadata": {},
   "outputs": [],
   "source": [
    "models=sorted(list(set(runs['NotreDame'].keys()).union(set(runs['IIIT_WVU'].keys()),set(runs['Clarkson'].keys()))))"
   ]
  },
  {
   "cell_type": "code",
   "execution_count": 78,
   "id": "2257d43d",
   "metadata": {},
   "outputs": [],
   "source": [
    "results = {model:{train:{test:None for test in ds} for train in ds} for model in models}\n",
    "\n",
    "for train in ds:\n",
    "    for model in runs[train]:\n",
    "        for run in runs[train][model]:\n",
    "            batch_size = run.config['CLASSIFIER']['equiv_batch_size']\n",
    "            lambda_nce = run.config['CUT']['lambda_NCE']\n",
    "            for test, args in params[train].items():\n",
    "                if args['bs'] == batch_size and args['lambda'] == lambda_nce:\n",
    "                    if results[model][train][test] is None:\n",
    "                        results[model][train][test] = run.summary[f\"acer/{test}/TEST\"]['min']*100\n",
    "                    else:\n",
    "                        results[model][train][test] = min(results[model][train][test], run.summary[f\"acer/{test}/TEST\"]['min']*100)\n",
    "\n",
    "\n",
    "for model in models:\n",
    "    for train in ds:\n",
    "        for test in ds:\n",
    "            if results[model][train][test] is not None:\n",
    "                results[model][train][test] = \"{:.02f}\".format(results[model][train][test])\n",
    "            else:\n",
    "                results[model][train][test] = \"-\""
   ]
  },
  {
   "cell_type": "code",
   "execution_count": 79,
   "id": "20567614",
   "metadata": {},
   "outputs": [],
   "source": [
    "model_name = 'PBS'\n",
    "results[model_name] = {train:{test:\"-\" for test in ds} for train in ds}\n",
    "results[model_name]['IIIT_WVU']['NotreDame'] = 16.86\n",
    "results[model_name]['IIIT_WVU']['Clarkson'] = 47.17\n",
    "results[model_name]['NotreDame']['IIIT_WVU'] = 17.49\n",
    "results[model_name]['NotreDame']['Clarkson'] = 45.31\n",
    "results[model_name]['Clarkson']['IIIT_WVU'] = 42.28\n",
    "results[model_name]['Clarkson']['NotreDame'] = 32.42\n",
    "models.append(model_name)\n",
    "\n",
    "model_name = 'A-PBS'\n",
    "results[model_name] = {train:{test:\"-\" for test in ds} for train in ds}\n",
    "results[model_name]['IIIT_WVU']['NotreDame'] = 27.61\n",
    "results[model_name]['IIIT_WVU']['Clarkson'] = 21.99\n",
    "results[model_name]['NotreDame']['IIIT_WVU'] = 9.49\n",
    "results[model_name]['NotreDame']['Clarkson'] = 22.46\n",
    "results[model_name]['Clarkson']['IIIT_WVU'] = 34.17\n",
    "results[model_name]['Clarkson']['NotreDame'] = 23.08\n",
    "models.append(model_name)\n",
    "\n",
    "model_name = 'FAM+FMM'\n",
    "results[model_name] = {train:{test:\"-\" for test in ds} for train in ds}\n",
    "results[model_name]['IIIT_WVU']['NotreDame'] = 5.81\n",
    "results[model_name]['IIIT_WVU']['Clarkson'] = 26.03\n",
    "results[model_name]['NotreDame']['IIIT_WVU'] = 15.07\n",
    "results[model_name]['NotreDame']['Clarkson'] = 10.51\n",
    "results[model_name]['Clarkson']['IIIT_WVU'] = 22.06\n",
    "results[model_name]['Clarkson']['NotreDame'] = 20.92\n",
    "models.append(model_name)\n",
    "\n",
    "model_name = 'CASIA'\n",
    "results[model_name] = {train:{test:\"-\" for test in ds} for train in ds}\n",
    "results[model_name]['Clarkson']['Clarkson'] = 7.10\n",
    "results[model_name]['NotreDame']['NotreDame'] = 4.03\n",
    "results[model_name]['IIIT_WVU']['IIIT_WVU'] = 16.70\n",
    "models.append(model_name)\n",
    "\n",
    "model_name = 'SpoofNet'\n",
    "results[model_name] = {train:{test:\"-\" for test in ds} for train in ds}\n",
    "results[model_name]['Clarkson']['Clarkson'] = 16.50\n",
    "results[model_name]['NotreDame']['NotreDame'] = 9.50\n",
    "results[model_name]['IIIT_WVU']['IIIT_WVU'] = 18.62\n",
    "models.append(model_name)\n",
    "\n",
    "model_name = 'D-NetPAD'\n",
    "results[model_name] = {train:{test:\"-\" for test in ds} for train in ds}\n",
    "results[model_name]['Clarkson']['Clarkson'] = 3.36\n",
    "results[model_name]['NotreDame']['NotreDame'] = 6.81\n",
    "results[model_name]['IIIT_WVU']['IIIT_WVU'] = 23.27\n",
    "models.append(model_name)\n",
    "\n",
    "model_name = 'MSA'\n",
    "results[model_name] = {train:{test:\"-\" for test in ds} for train in ds}\n",
    "results[model_name]['NotreDame']['NotreDame'] = 6.23\n",
    "results[model_name]['IIIT_WVU']['IIIT_WVU'] = 11.13\n",
    "models.append(model_name)\n",
    "\n",
    "model_name = 'PBS'\n",
    "#results[model_name] = {train:{test:\"-\" for test in ds} for train in ds}\n",
    "results[model_name]['Clarkson']['Clarkson'] = 4.48\n",
    "results[model_name]['NotreDame']['NotreDame'] = 4.97\n",
    "results[model_name]['IIIT_WVU']['IIIT_WVU'] = 7.01\n",
    "#models.append(model_name)\n",
    "\n",
    "model_name = 'A-PBS'\n",
    "#results[model_name] = {train:{test:\"-\" for test in ds} for train in ds}\n",
    "results[model_name]['Clarkson']['Clarkson'] = 3.48\n",
    "results[model_name]['NotreDame']['NotreDame'] = 3.94\n",
    "results[model_name]['IIIT_WVU']['IIIT_WVU'] = 6.50\n",
    "#models.append(model_name)\n",
    "\n",
    "model_name = 'FAM'\n",
    "results[model_name] = {train:{test:\"-\" for test in ds} for train in ds}\n",
    "results[model_name]['Clarkson']['Clarkson'] = 3.45\n",
    "results[model_name]['NotreDame']['NotreDame'] = 4.03\n",
    "results[model_name]['IIIT_WVU']['IIIT_WVU'] = 6.84\n",
    "models.append(model_name)"
   ]
  },
  {
   "cell_type": "code",
   "execution_count": 80,
   "id": "706933b9",
   "metadata": {},
   "outputs": [],
   "source": [
    "with open(\"LivDet2017-results.csv\",\"w\") as f:\n",
    "    f.write(\"Train,IIIT_WVU,,,NotreDame,,,Clarkson,,,\\n\")\n",
    "    f.write(\"Test,IIIT_WVU,NotreDame,Clarkson,IIIT_WVU,NotreDame,Clarkson,IIIT_WVU,NotreDame,Clarkson\\n\")\n",
    "    for model in models:\n",
    "        msg=f\"{model},\"\n",
    "        for train in ds:\n",
    "            for test in ds:\n",
    "                msg += f\"{results[model][train][test]},\"\n",
    "        f.write(msg+\"\\n\")"
   ]
  },
  {
   "cell_type": "code",
   "execution_count": null,
   "id": "fdbe9a1d",
   "metadata": {},
   "outputs": [],
   "source": []
  }
 ],
 "metadata": {
  "kernelspec": {
   "display_name": "Python 3 (ipykernel)",
   "language": "python",
   "name": "python3"
  },
  "language_info": {
   "codemirror_mode": {
    "name": "ipython",
    "version": 3
   },
   "file_extension": ".py",
   "mimetype": "text/x-python",
   "name": "python",
   "nbconvert_exporter": "python",
   "pygments_lexer": "ipython3",
   "version": "3.9.13"
  }
 },
 "nbformat": 4,
 "nbformat_minor": 5
}
